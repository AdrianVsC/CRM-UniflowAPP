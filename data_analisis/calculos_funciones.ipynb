{
 "cells": [
  {
   "cell_type": "code",
   "execution_count": 1,
   "metadata": {},
   "outputs": [],
   "source": [
    "import pandas as pd\n",
    "import random\n",
    "from datetime import datetime, timedelta\n",
    "import os \n",
    "from supabase import create_client, Client\n",
    "from dotenv import load_dotenv\n"
   ]
  },
  {
   "cell_type": "code",
   "execution_count": 2,
   "metadata": {},
   "outputs": [],
   "source": [
    "#cargar el DATASET\n",
    "customer_df = pd.read_csv(r\"C:\\Users\\jorge\\OneDrive\\Escritorio\\uf\\customer.csv\", sep=';')\n",
    "team_df = pd.read_csv(r\"C:\\Users\\jorge\\OneDrive\\Escritorio\\uf\\team.csv\", sep=';')\n",
    "condominium_df = pd.read_csv(r\"C:\\Users\\jorge\\OneDrive\\Escritorio\\uf\\condominum.csv\", sep=',')"
   ]
  },
  {
   "cell_type": "markdown",
   "metadata": {},
   "source": [
    "### Se usa .head para verificar las columnas y la informacion dentro de los dataframe"
   ]
  },
  {
   "cell_type": "code",
   "execution_count": 3,
   "metadata": {},
   "outputs": [
    {
     "data": {
      "text/html": [
       "<div>\n",
       "<style scoped>\n",
       "    .dataframe tbody tr th:only-of-type {\n",
       "        vertical-align: middle;\n",
       "    }\n",
       "\n",
       "    .dataframe tbody tr th {\n",
       "        vertical-align: top;\n",
       "    }\n",
       "\n",
       "    .dataframe thead th {\n",
       "        text-align: right;\n",
       "    }\n",
       "</style>\n",
       "<table border=\"1\" class=\"dataframe\">\n",
       "  <thead>\n",
       "    <tr style=\"text-align: right;\">\n",
       "      <th></th>\n",
       "      <th>id_customer</th>\n",
       "      <th>dni</th>\n",
       "      <th>first_name</th>\n",
       "      <th>last_name</th>\n",
       "      <th>email</th>\n",
       "      <th>phone_number</th>\n",
       "      <th>country</th>\n",
       "      <th>province</th>\n",
       "      <th>address</th>\n",
       "      <th>postal_code</th>\n",
       "      <th>participation_quantity</th>\n",
       "      <th>prospect_status</th>\n",
       "      <th>isEnable</th>\n",
       "      <th>client_status</th>\n",
       "      <th>createdAt</th>\n",
       "      <th>updateAt</th>\n",
       "      <th>team_id</th>\n",
       "    </tr>\n",
       "  </thead>\n",
       "  <tbody>\n",
       "    <tr>\n",
       "      <th>0</th>\n",
       "      <td>1</td>\n",
       "      <td>49-896-8694</td>\n",
       "      <td>Ula</td>\n",
       "      <td>Blades</td>\n",
       "      <td>ublades0@disqus.com</td>\n",
       "      <td>7488907019</td>\n",
       "      <td>Argentina</td>\n",
       "      <td>Mendoza</td>\n",
       "      <td>9382 Raven Circle</td>\n",
       "      <td>NaN</td>\n",
       "      <td>NaN</td>\n",
       "      <td>Closed</td>\n",
       "      <td>False</td>\n",
       "      <td>Active</td>\n",
       "      <td>2/10/2024</td>\n",
       "      <td>10/07/2024</td>\n",
       "      <td>5</td>\n",
       "    </tr>\n",
       "    <tr>\n",
       "      <th>1</th>\n",
       "      <td>2</td>\n",
       "      <td>28-040-9556</td>\n",
       "      <td>Tammie</td>\n",
       "      <td>Cocke</td>\n",
       "      <td>tcocke1@macromedia.com</td>\n",
       "      <td>6430893677</td>\n",
       "      <td>Argentina</td>\n",
       "      <td>Catamarca</td>\n",
       "      <td>188 Calypso Drive</td>\n",
       "      <td>4750-419</td>\n",
       "      <td>NaN</td>\n",
       "      <td>Contacted</td>\n",
       "      <td>False</td>\n",
       "      <td>Inactive</td>\n",
       "      <td>1/10/2024</td>\n",
       "      <td>10/07/2024</td>\n",
       "      <td>4</td>\n",
       "    </tr>\n",
       "    <tr>\n",
       "      <th>2</th>\n",
       "      <td>3</td>\n",
       "      <td>85-078-8085</td>\n",
       "      <td>Palmer</td>\n",
       "      <td>Luscombe</td>\n",
       "      <td>pluscombe2@phpbb.com</td>\n",
       "      <td>5842608251</td>\n",
       "      <td>Argentina</td>\n",
       "      <td>Chaco</td>\n",
       "      <td>1153 Maple Wood Road</td>\n",
       "      <td>50130</td>\n",
       "      <td>NaN</td>\n",
       "      <td>Contacted</td>\n",
       "      <td>False</td>\n",
       "      <td>Inactive</td>\n",
       "      <td>1/10/2024</td>\n",
       "      <td>10/09/2024</td>\n",
       "      <td>5</td>\n",
       "    </tr>\n",
       "    <tr>\n",
       "      <th>3</th>\n",
       "      <td>4</td>\n",
       "      <td>07-184-2391</td>\n",
       "      <td>Kirk</td>\n",
       "      <td>Baudins</td>\n",
       "      <td>kbaudins3@mapy.cz</td>\n",
       "      <td>7994836755</td>\n",
       "      <td>Argentina</td>\n",
       "      <td>Chubut</td>\n",
       "      <td>8 Bunting Alley</td>\n",
       "      <td>NaN</td>\n",
       "      <td>NaN</td>\n",
       "      <td>Contacted</td>\n",
       "      <td>True</td>\n",
       "      <td>Inactive</td>\n",
       "      <td>1/10/2024</td>\n",
       "      <td>10/09/2024</td>\n",
       "      <td>3</td>\n",
       "    </tr>\n",
       "    <tr>\n",
       "      <th>4</th>\n",
       "      <td>5</td>\n",
       "      <td>73-849-0899</td>\n",
       "      <td>Leshia</td>\n",
       "      <td>Armin</td>\n",
       "      <td>larmin4@google.ca</td>\n",
       "      <td>5653062669</td>\n",
       "      <td>Argentina</td>\n",
       "      <td>Catamarca</td>\n",
       "      <td>51 Clemons Place</td>\n",
       "      <td>70760</td>\n",
       "      <td>NaN</td>\n",
       "      <td>Contacted</td>\n",
       "      <td>True</td>\n",
       "      <td>Inactive</td>\n",
       "      <td>2/10/2024</td>\n",
       "      <td>10/08/2024</td>\n",
       "      <td>2</td>\n",
       "    </tr>\n",
       "  </tbody>\n",
       "</table>\n",
       "</div>"
      ],
      "text/plain": [
       "   id_customer          dni first_name last_name                   email  \\\n",
       "0            1  49-896-8694        Ula    Blades     ublades0@disqus.com   \n",
       "1            2  28-040-9556     Tammie     Cocke  tcocke1@macromedia.com   \n",
       "2            3  85-078-8085     Palmer  Luscombe    pluscombe2@phpbb.com   \n",
       "3            4  07-184-2391       Kirk   Baudins       kbaudins3@mapy.cz   \n",
       "4            5  73-849-0899     Leshia     Armin       larmin4@google.ca   \n",
       "\n",
       "   phone_number    country   province               address postal_code  \\\n",
       "0    7488907019  Argentina    Mendoza     9382 Raven Circle         NaN   \n",
       "1    6430893677  Argentina  Catamarca     188 Calypso Drive    4750-419   \n",
       "2    5842608251  Argentina      Chaco  1153 Maple Wood Road       50130   \n",
       "3    7994836755  Argentina     Chubut       8 Bunting Alley         NaN   \n",
       "4    5653062669  Argentina  Catamarca      51 Clemons Place       70760   \n",
       "\n",
       "   participation_quantity prospect_status  isEnable client_status  createdAt  \\\n",
       "0                     NaN          Closed     False        Active  2/10/2024   \n",
       "1                     NaN       Contacted     False      Inactive  1/10/2024   \n",
       "2                     NaN       Contacted     False      Inactive  1/10/2024   \n",
       "3                     NaN       Contacted      True      Inactive  1/10/2024   \n",
       "4                     NaN       Contacted      True      Inactive  2/10/2024   \n",
       "\n",
       "     updateAt  team_id  \n",
       "0  10/07/2024        5  \n",
       "1  10/07/2024        4  \n",
       "2  10/09/2024        5  \n",
       "3  10/09/2024        3  \n",
       "4  10/08/2024        2  "
      ]
     },
     "execution_count": 3,
     "metadata": {},
     "output_type": "execute_result"
    }
   ],
   "source": [
    "customer_df.head()"
   ]
  },
  {
   "cell_type": "code",
   "execution_count": 4,
   "metadata": {},
   "outputs": [
    {
     "data": {
      "text/html": [
       "<div>\n",
       "<style scoped>\n",
       "    .dataframe tbody tr th:only-of-type {\n",
       "        vertical-align: middle;\n",
       "    }\n",
       "\n",
       "    .dataframe tbody tr th {\n",
       "        vertical-align: top;\n",
       "    }\n",
       "\n",
       "    .dataframe thead th {\n",
       "        text-align: right;\n",
       "    }\n",
       "</style>\n",
       "<table border=\"1\" class=\"dataframe\">\n",
       "  <thead>\n",
       "    <tr style=\"text-align: right;\">\n",
       "      <th></th>\n",
       "      <th>team_id</th>\n",
       "      <th>first_name</th>\n",
       "      <th>last_name</th>\n",
       "      <th>email</th>\n",
       "      <th>phone_number</th>\n",
       "      <th>country</th>\n",
       "      <th>created_at</th>\n",
       "    </tr>\n",
       "  </thead>\n",
       "  <tbody>\n",
       "    <tr>\n",
       "      <th>0</th>\n",
       "      <td>1</td>\n",
       "      <td>Vendedor</td>\n",
       "      <td>1</td>\n",
       "      <td>paskham0@sciencedaily.com</td>\n",
       "      <td>1093378816</td>\n",
       "      <td>Argentina</td>\n",
       "      <td>15/09/2024</td>\n",
       "    </tr>\n",
       "    <tr>\n",
       "      <th>1</th>\n",
       "      <td>2</td>\n",
       "      <td>Vendedor</td>\n",
       "      <td>2</td>\n",
       "      <td>pmcmechan1@noaa.gov</td>\n",
       "      <td>1117621162</td>\n",
       "      <td>Argentina</td>\n",
       "      <td>15/09/2024</td>\n",
       "    </tr>\n",
       "    <tr>\n",
       "      <th>2</th>\n",
       "      <td>3</td>\n",
       "      <td>Vendedor</td>\n",
       "      <td>3</td>\n",
       "      <td>ctanser2@japanpost.jp</td>\n",
       "      <td>8701151460</td>\n",
       "      <td>Argentina</td>\n",
       "      <td>6/09/2024</td>\n",
       "    </tr>\n",
       "    <tr>\n",
       "      <th>3</th>\n",
       "      <td>4</td>\n",
       "      <td>Vendedor</td>\n",
       "      <td>4</td>\n",
       "      <td>ffleischmann3@wikia.com</td>\n",
       "      <td>1895167965</td>\n",
       "      <td>Argentina</td>\n",
       "      <td>28/09/2024</td>\n",
       "    </tr>\n",
       "    <tr>\n",
       "      <th>4</th>\n",
       "      <td>5</td>\n",
       "      <td>Vendedor</td>\n",
       "      <td>5</td>\n",
       "      <td>cheartfield4@dmoz.org</td>\n",
       "      <td>7141032673</td>\n",
       "      <td>Argentina</td>\n",
       "      <td>19/09/2024</td>\n",
       "    </tr>\n",
       "  </tbody>\n",
       "</table>\n",
       "</div>"
      ],
      "text/plain": [
       "   team_id first_name  last_name                      email  phone_number  \\\n",
       "0        1   Vendedor          1  paskham0@sciencedaily.com    1093378816   \n",
       "1        2   Vendedor          2        pmcmechan1@noaa.gov    1117621162   \n",
       "2        3   Vendedor          3      ctanser2@japanpost.jp    8701151460   \n",
       "3        4   Vendedor          4    ffleischmann3@wikia.com    1895167965   \n",
       "4        5   Vendedor          5      cheartfield4@dmoz.org    7141032673   \n",
       "\n",
       "     country  created_at  \n",
       "0  Argentina  15/09/2024  \n",
       "1  Argentina  15/09/2024  \n",
       "2  Argentina   6/09/2024  \n",
       "3  Argentina  28/09/2024  \n",
       "4  Argentina  19/09/2024  "
      ]
     },
     "execution_count": 4,
     "metadata": {},
     "output_type": "execute_result"
    }
   ],
   "source": [
    "team_df.head()"
   ]
  },
  {
   "cell_type": "code",
   "execution_count": 5,
   "metadata": {},
   "outputs": [
    {
     "data": {
      "text/html": [
       "<div>\n",
       "<style scoped>\n",
       "    .dataframe tbody tr th:only-of-type {\n",
       "        vertical-align: middle;\n",
       "    }\n",
       "\n",
       "    .dataframe tbody tr th {\n",
       "        vertical-align: top;\n",
       "    }\n",
       "\n",
       "    .dataframe thead th {\n",
       "        text-align: right;\n",
       "    }\n",
       "</style>\n",
       "<table border=\"1\" class=\"dataframe\">\n",
       "  <thead>\n",
       "    <tr style=\"text-align: right;\">\n",
       "      <th></th>\n",
       "      <th>id_condominum</th>\n",
       "      <th>condominum_name</th>\n",
       "      <th>propieties</th>\n",
       "      <th>condominum_status</th>\n",
       "      <th>createdAt</th>\n",
       "      <th>updateAt</th>\n",
       "      <th>id_customer</th>\n",
       "    </tr>\n",
       "  </thead>\n",
       "  <tbody>\n",
       "    <tr>\n",
       "      <th>0</th>\n",
       "      <td>1</td>\n",
       "      <td>Carter Group</td>\n",
       "      <td>258</td>\n",
       "      <td>Active</td>\n",
       "      <td>18/10/2024</td>\n",
       "      <td>04/11/2024</td>\n",
       "      <td>23</td>\n",
       "    </tr>\n",
       "    <tr>\n",
       "      <th>1</th>\n",
       "      <td>2</td>\n",
       "      <td>Marvin Group</td>\n",
       "      <td>152</td>\n",
       "      <td>Active</td>\n",
       "      <td>08/10/2024</td>\n",
       "      <td>03/11/2024</td>\n",
       "      <td>25</td>\n",
       "    </tr>\n",
       "    <tr>\n",
       "      <th>2</th>\n",
       "      <td>3</td>\n",
       "      <td>Braun-Hartmann</td>\n",
       "      <td>226</td>\n",
       "      <td>Active</td>\n",
       "      <td>02/10/2024</td>\n",
       "      <td>03/11/2024</td>\n",
       "      <td>6</td>\n",
       "    </tr>\n",
       "    <tr>\n",
       "      <th>3</th>\n",
       "      <td>4</td>\n",
       "      <td>Hills and Sons</td>\n",
       "      <td>263</td>\n",
       "      <td>Inactive</td>\n",
       "      <td>06/10/2024</td>\n",
       "      <td>01/11/2024</td>\n",
       "      <td>21</td>\n",
       "    </tr>\n",
       "    <tr>\n",
       "      <th>4</th>\n",
       "      <td>5</td>\n",
       "      <td>Raynor LLC</td>\n",
       "      <td>300</td>\n",
       "      <td>Inactive</td>\n",
       "      <td>13/10/2024</td>\n",
       "      <td>03/11/2024</td>\n",
       "      <td>33</td>\n",
       "    </tr>\n",
       "  </tbody>\n",
       "</table>\n",
       "</div>"
      ],
      "text/plain": [
       "   id_condominum condominum_name  propieties condominum_status   createdAt  \\\n",
       "0              1    Carter Group         258            Active  18/10/2024   \n",
       "1              2    Marvin Group         152            Active  08/10/2024   \n",
       "2              3  Braun-Hartmann         226            Active  02/10/2024   \n",
       "3              4  Hills and Sons         263          Inactive  06/10/2024   \n",
       "4              5      Raynor LLC         300          Inactive  13/10/2024   \n",
       "\n",
       "     updateAt  id_customer  \n",
       "0  04/11/2024           23  \n",
       "1  03/11/2024           25  \n",
       "2  03/11/2024            6  \n",
       "3  01/11/2024           21  \n",
       "4  03/11/2024           33  "
      ]
     },
     "execution_count": 5,
     "metadata": {},
     "output_type": "execute_result"
    }
   ],
   "source": [
    "condominium_df.head()"
   ]
  },
  {
   "cell_type": "markdown",
   "metadata": {},
   "source": [
    "### Se realiza limpieza de los datos, normalizando datos de DNI a solo numero, dandole formato de fecha a las columnas con fechas, quitando columnas innecesarias para los calculos"
   ]
  },
  {
   "cell_type": "code",
   "execution_count": 6,
   "metadata": {},
   "outputs": [],
   "source": [
    "#Funcion para limpiar los caractereres incorrectos en la casilla de dni, phone_number y postal_code\n",
    "def convert_to_number(x):\n",
    "    if pd.isna(x):\n",
    "        # Si el valor es NaN, devolver NaN\n",
    "        return x\n",
    "    elif isinstance(x, str):\n",
    "        # Filtrar solo los dígitos de la cadena\n",
    "        filtered_str = ''.join(filter(str.isdigit, x))\n",
    "        if filtered_str:\n",
    "            return int(filtered_str)  # Convertir directamente a entero\n",
    "        else:\n",
    "            return None  # Si no quedan dígitos después de la limpieza, devolver None\n",
    "    elif isinstance(x, float):\n",
    "        # Convertir un número float a int si es necesario\n",
    "        return int(x)\n",
    "    else:\n",
    "        # Si ya es un número entero, devolverlo tal cual\n",
    "        return x\n"
   ]
  },
  {
   "cell_type": "code",
   "execution_count": 7,
   "metadata": {},
   "outputs": [],
   "source": [
    "customer_df['dni'] = customer_df['dni'].apply(convert_to_number)\n",
    "customer_df['phone_number'] = customer_df['phone_number'].apply(convert_to_number)\n",
    "customer_df['postal_code'] =customer_df['postal_code'].apply(convert_to_number)"
   ]
  },
  {
   "cell_type": "code",
   "execution_count": 8,
   "metadata": {},
   "outputs": [],
   "source": [
    "# Convertir la columna 'createdAt' a formato de fecha\n",
    "customer_df['createdAt'] = pd.to_datetime(customer_df['createdAt'])\n",
    "# Establecer 'createdAt' como el índice\n",
    "customer_df.set_index('createdAt', inplace=True)\n",
    "# Formato para mostrar las fechas como DD/MM/YY\n",
    "customer_df.index = customer_df.index.strftime('%d/%m/%y')\n",
    "customer_df.sort_values('createdAt', inplace=True)"
   ]
  },
  {
   "cell_type": "code",
   "execution_count": 9,
   "metadata": {},
   "outputs": [
    {
     "data": {
      "text/html": [
       "<div>\n",
       "<style scoped>\n",
       "    .dataframe tbody tr th:only-of-type {\n",
       "        vertical-align: middle;\n",
       "    }\n",
       "\n",
       "    .dataframe tbody tr th {\n",
       "        vertical-align: top;\n",
       "    }\n",
       "\n",
       "    .dataframe thead th {\n",
       "        text-align: right;\n",
       "    }\n",
       "</style>\n",
       "<table border=\"1\" class=\"dataframe\">\n",
       "  <thead>\n",
       "    <tr style=\"text-align: right;\">\n",
       "      <th></th>\n",
       "      <th>id_customer</th>\n",
       "      <th>dni</th>\n",
       "      <th>first_name</th>\n",
       "      <th>last_name</th>\n",
       "      <th>country</th>\n",
       "      <th>province</th>\n",
       "      <th>prospect_status</th>\n",
       "      <th>isEnable</th>\n",
       "      <th>client_status</th>\n",
       "      <th>updateAt</th>\n",
       "      <th>team_id</th>\n",
       "    </tr>\n",
       "    <tr>\n",
       "      <th>createdAt</th>\n",
       "      <th></th>\n",
       "      <th></th>\n",
       "      <th></th>\n",
       "      <th></th>\n",
       "      <th></th>\n",
       "      <th></th>\n",
       "      <th></th>\n",
       "      <th></th>\n",
       "      <th></th>\n",
       "      <th></th>\n",
       "      <th></th>\n",
       "    </tr>\n",
       "  </thead>\n",
       "  <tbody>\n",
       "    <tr>\n",
       "      <th>10/01/24</th>\n",
       "      <td>38</td>\n",
       "      <td>29260942</td>\n",
       "      <td>Alia</td>\n",
       "      <td>Cadman</td>\n",
       "      <td>Argentina</td>\n",
       "      <td>Rio Negro</td>\n",
       "      <td>Proposed</td>\n",
       "      <td>True</td>\n",
       "      <td>Inactive</td>\n",
       "      <td>10/07/2024</td>\n",
       "      <td>4</td>\n",
       "    </tr>\n",
       "    <tr>\n",
       "      <th>10/01/24</th>\n",
       "      <td>26</td>\n",
       "      <td>854640512</td>\n",
       "      <td>Modesty</td>\n",
       "      <td>Rraundl</td>\n",
       "      <td>Argentina</td>\n",
       "      <td>Formosa</td>\n",
       "      <td>Closed</td>\n",
       "      <td>True</td>\n",
       "      <td>Active</td>\n",
       "      <td>10/08/2024</td>\n",
       "      <td>3</td>\n",
       "    </tr>\n",
       "    <tr>\n",
       "      <th>10/01/24</th>\n",
       "      <td>20</td>\n",
       "      <td>58408494</td>\n",
       "      <td>Stevena</td>\n",
       "      <td>Pleaden</td>\n",
       "      <td>Argentina</td>\n",
       "      <td>Salta</td>\n",
       "      <td>Negociation</td>\n",
       "      <td>False</td>\n",
       "      <td>Inactive</td>\n",
       "      <td>10/08/2024</td>\n",
       "      <td>2</td>\n",
       "    </tr>\n",
       "    <tr>\n",
       "      <th>10/01/24</th>\n",
       "      <td>18</td>\n",
       "      <td>772039989</td>\n",
       "      <td>Moll</td>\n",
       "      <td>Smallsman</td>\n",
       "      <td>Argentina</td>\n",
       "      <td>Rio Negro</td>\n",
       "      <td>Contacted</td>\n",
       "      <td>True</td>\n",
       "      <td>Inactive</td>\n",
       "      <td>10/09/2024</td>\n",
       "      <td>3</td>\n",
       "    </tr>\n",
       "    <tr>\n",
       "      <th>10/01/24</th>\n",
       "      <td>45</td>\n",
       "      <td>726962816</td>\n",
       "      <td>Bunnie</td>\n",
       "      <td>Spadotto</td>\n",
       "      <td>Argentina</td>\n",
       "      <td>La Rioja</td>\n",
       "      <td>Contacted</td>\n",
       "      <td>False</td>\n",
       "      <td>Inactive</td>\n",
       "      <td>10/09/2024</td>\n",
       "      <td>3</td>\n",
       "    </tr>\n",
       "  </tbody>\n",
       "</table>\n",
       "</div>"
      ],
      "text/plain": [
       "           id_customer        dni first_name  last_name    country   province  \\\n",
       "createdAt                                                                       \n",
       "10/01/24            38   29260942       Alia     Cadman  Argentina  Rio Negro   \n",
       "10/01/24            26  854640512    Modesty    Rraundl  Argentina    Formosa   \n",
       "10/01/24            20   58408494    Stevena    Pleaden  Argentina      Salta   \n",
       "10/01/24            18  772039989       Moll  Smallsman  Argentina  Rio Negro   \n",
       "10/01/24            45  726962816     Bunnie   Spadotto  Argentina   La Rioja   \n",
       "\n",
       "          prospect_status  isEnable client_status    updateAt  team_id  \n",
       "createdAt                                                               \n",
       "10/01/24         Proposed      True      Inactive  10/07/2024        4  \n",
       "10/01/24           Closed      True        Active  10/08/2024        3  \n",
       "10/01/24      Negociation     False      Inactive  10/08/2024        2  \n",
       "10/01/24        Contacted      True      Inactive  10/09/2024        3  \n",
       "10/01/24        Contacted     False      Inactive  10/09/2024        3  "
      ]
     },
     "execution_count": 9,
     "metadata": {},
     "output_type": "execute_result"
    }
   ],
   "source": [
    "# Se eliminan las columnas no necesarias para los calculos de la tabla customers\n",
    "customer_df.drop(['postal_code', 'participation_quantity', 'email', 'phone_number', 'address'], axis=1, inplace=True)\n",
    "customer_df.head()"
   ]
  },
  {
   "cell_type": "markdown",
   "metadata": {},
   "source": [
    "# Calculo de totales necesarios"
   ]
  },
  {
   "cell_type": "markdown",
   "metadata": {},
   "source": [
    "#### Para ejecutar todas las funciones se usa el dataset de customer llamado customer_df"
   ]
  },
  {
   "cell_type": "markdown",
   "metadata": {},
   "source": [
    "## Totales sin filtro por mes "
   ]
  },
  {
   "cell_type": "code",
   "execution_count": 10,
   "metadata": {},
   "outputs": [],
   "source": [
    "# Total clientes en estado propuesta\n",
    "def total_customer_proposed(df):\n",
    "    #Realización de cálculos\n",
    "    Total_Clientes_Propuesta = customer_df[customer_df['prospect_status'] == 'Proposed'].shape[0]\n",
    "    return Total_Clientes_Propuesta"
   ]
  },
  {
   "cell_type": "code",
   "execution_count": 11,
   "metadata": {},
   "outputs": [],
   "source": [
    "# Total clientes en estado negociacion\n",
    "def total_customer_negociation(df):\n",
    "    #Realización de cálculos\n",
    "    Total_Clientes_Negociacion = customer_df[customer_df['prospect_status'] == 'Negociation'].shape[0]\n",
    "    return  Total_Clientes_Negociacion"
   ]
  },
  {
   "cell_type": "code",
   "execution_count": 12,
   "metadata": {},
   "outputs": [],
   "source": [
    "# Total clientes en estado contactado\n",
    "def total_customer_contated(df):\n",
    "    #Realización de cálculos\n",
    "    Total_Clientes_Contactado = customer_df[customer_df['prospect_status'] == 'Contacted'].shape[0]\n",
    "    return  Total_Clientes_Contactado\n",
    "    "
   ]
  },
  {
   "cell_type": "code",
   "execution_count": 13,
   "metadata": {},
   "outputs": [],
   "source": [
    "# Total Clientes en estado Cerrado\n",
    "def total_customer_closed(df):\n",
    "    #Realización de cálculos\n",
    "    Total_Clientes_Cerrados = customer_df[customer_df['prospect_status'] == 'Closed'].shape[0]\n",
    "    return Total_Clientes_Cerrados,\n"
   ]
  },
  {
   "cell_type": "code",
   "execution_count": 14,
   "metadata": {},
   "outputs": [],
   "source": [
    "# Total facturacion por cliente \n",
    "def total_customer_facturation (df):\n",
    "    #Realizacion del calculo\n",
    "    join = pd.merge(customer_df,condominium_df,on='id_customer',how='inner')\n",
    "    total_propiedades = join.groupby('id_customer')['propieties'].sum().reset_index(name='total_propiedades')\n",
    "    total_propiedades['total_propiedades'] = total_propiedades['total_propiedades'].apply(lambda x: f\"${x:,.2f}\")\n",
    "    return total_propiedades"
   ]
  },
  {
   "cell_type": "code",
   "execution_count": 15,
   "metadata": {},
   "outputs": [],
   "source": [
    "# Total de condominios por cada cliente\n",
    "def total_customer_condominum (df):\n",
    "    #realizacion del calculo\n",
    "    join = pd.merge(customer_df,condominium_df,on='id_customer', how='inner')\n",
    "    total_condominios = join.groupby('id_customer')['propieties'].count().reset_index(name='total_condominios')\n",
    "    return total_condominios"
   ]
  },
  {
   "cell_type": "code",
   "execution_count": 16,
   "metadata": {},
   "outputs": [],
   "source": [
    "# Total clientes activos\n",
    "def total_customer_active(df):\n",
    "    Total_Clientes_Activos = customer_df[customer_df['isEnable']==True].shape[0]\n",
    "    return Total_Clientes_Activos"
   ]
  },
  {
   "cell_type": "code",
   "execution_count": 17,
   "metadata": {},
   "outputs": [],
   "source": [
    "# Total clientes inactivos \n",
    "def total_customer_inactive(df):\n",
    "    Total_Clientes_Inactivos = customer_df[customer_df['isEnable']==False].shape[0]\n",
    "    return Total_Clientes_Inactivos"
   ]
  },
  {
   "cell_type": "code",
   "execution_count": 18,
   "metadata": {},
   "outputs": [],
   "source": [
    "# Total clientes en prospectos en total sin importar los meses\n",
    "def total_prospect(df):\n",
    "    total_prospectos = customer_df[customer_df['prospect_status'] != 'Closed'].shape[0]\n",
    "    return total_prospectos"
   ]
  },
  {
   "cell_type": "markdown",
   "metadata": {},
   "source": [
    "## Totales Filtrados por Mes"
   ]
  },
  {
   "cell_type": "markdown",
   "metadata": {},
   "source": [
    "### Todos estos filtros se ejecutan en base a la fecha de createdAt, en caso de actualizacion de estado, sigue tomando la fecha de creacion, no toma en cuenta la fecha de actualizacion"
   ]
  },
  {
   "cell_type": "code",
   "execution_count": 19,
   "metadata": {},
   "outputs": [],
   "source": [
    "#Funcion para filtrar por mes en la visualizacion, tomada por numeros del 1 al 12 \n",
    "def monthly_filter(df, mes):\n",
    "    # Extraemos el mes del índice (que es la columna 'createdAt')\n",
    "    df_filtrado = customer_df[customer_df.index.to_series().apply(lambda x: pd.to_datetime(x).month) == mes]\n",
    "    return df_filtrado"
   ]
  },
  {
   "cell_type": "code",
   "execution_count": 20,
   "metadata": {},
   "outputs": [],
   "source": [
    "# Total clientes totales prospectos en todos los estados, prospecto, contactado, negociacion y cerrado en el mes\n",
    "def total_customer_prospect_month(df, mes):\n",
    "    df_filtrado = monthly_filter(df,mes)\n",
    "    #prospectos para el mes\n",
    "    total_clientes_propuesta_mes = df_filtrado.shape[0]\n",
    "    \n",
    "    return total_clientes_propuesta_mes"
   ]
  },
  {
   "cell_type": "code",
   "execution_count": 21,
   "metadata": {},
   "outputs": [],
   "source": [
    "# Total clientes cerrados por mes \n",
    "def total_customer_closed_month(df, mes):\n",
    "    df_filtrado = monthly_filter(df,mes)\n",
    "    total_cliente_cerrado_mes = df_filtrado[df_filtrado['prospect_status']== 'Closed'].shape[0]\n",
    "    return total_cliente_cerrado_mes\n"
   ]
  },
  {
   "cell_type": "code",
   "execution_count": 22,
   "metadata": {},
   "outputs": [],
   "source": [
    "# Total clientes en estado contactado por mes\n",
    "def total_customer_contacted_month (df, mes):\n",
    "    df_filtrado = monthly_filter(df,mes)\n",
    "    total_cliente_contactado_mes = df_filtrado[df_filtrado['prospect_status'] == 'Contacted'].shape[0]\n",
    "    return total_cliente_contactado_mes"
   ]
  },
  {
   "cell_type": "code",
   "execution_count": 23,
   "metadata": {},
   "outputs": [],
   "source": [
    "# Total clientes en estado negociacion por mes \n",
    "def total_customer_negociation_month (df,mes):\n",
    "    df_filtrado = monthly_filter(df,mes)\n",
    "    total_cliente_negociacion_mes = df_filtrado[df_filtrado['prospect_status']== 'Negociation'].shape[0]\n",
    "    return total_cliente_negociacion_mes"
   ]
  },
  {
   "cell_type": "code",
   "execution_count": 24,
   "metadata": {},
   "outputs": [],
   "source": [
    "# Total clientes en estado propuesta por mes\n",
    "def total_customer_proposed_month(df,mes):\n",
    "    df_filtrado = monthly_filter(df,mes)\n",
    "    Total_Clientes_Propuesta_mes = df_filtrado[df_filtrado['prospect_status'] == 'Proposed'].shape[0]\n",
    "    return Total_Clientes_Propuesta_mes"
   ]
  },
  {
   "cell_type": "code",
   "execution_count": 25,
   "metadata": {},
   "outputs": [],
   "source": [
    "# Total clientes activos por mes\n",
    "def total_customer_active_month(df,mes):\n",
    "    df_filtrado = monthly_filter(df,mes)\n",
    "    Total_Clientes_Activos_mes = df_filtrado[df_filtrado['isEnable']==True].shape[0]\n",
    "    return Total_Clientes_Activos_mes"
   ]
  },
  {
   "cell_type": "code",
   "execution_count": 26,
   "metadata": {},
   "outputs": [],
   "source": [
    "# Total de clientes inactivos por mes\n",
    "def total_customer_inactive_month(df,mes):\n",
    "    df_filtrado = monthly_filter(df,mes)\n",
    "    Total_Clientes_Inactivos_mes = df_filtrado[df_filtrado['isEnable']==False].shape[0]\n",
    "    return Total_Clientes_Inactivos_mes"
   ]
  },
  {
   "cell_type": "markdown",
   "metadata": {},
   "source": [
    "## Metas mensuales"
   ]
  },
  {
   "cell_type": "code",
   "execution_count": 27,
   "metadata": {},
   "outputs": [],
   "source": [
    "# Porcentaje de meta mensual\n",
    "def monthly_target_porcent (df,mes):\n",
    "    total = total_customer_prospect_month(df,mes)\n",
    "    meta_mensual_porcentaje = total * 0.75\n",
    "    porcentaje = meta_mensual_porcentaje/total_customer_prospect_month(df,mes) * 100\n",
    "    return porcentaje"
   ]
  },
  {
   "cell_type": "code",
   "execution_count": 28,
   "metadata": {},
   "outputs": [],
   "source": [
    "# Meta Mensual\n",
    "def monthly_target(df,mes):\n",
    "    total = total_customer_prospect_month(df,mes)\n",
    "    meta_mensual = total * 0.75\n",
    "    return meta_mensual"
   ]
  },
  {
   "cell_type": "code",
   "execution_count": 29,
   "metadata": {},
   "outputs": [],
   "source": [
    "# Porcentaje de cumplimiento al momento \n",
    "def compliance_rate(df,mes):\n",
    "    total_prospectos = total_customer_prospect_month(df,mes)\n",
    "    meta = total_prospectos * 0.75\n",
    "    if meta > 0:\n",
    "        cumplimiento = (total_customer_closed_month(df,mes)/meta) *100\n",
    "    else:\n",
    "        cumplimiento = 0 #Evitar division por 0\n",
    "\n",
    "    return cumplimiento"
   ]
  },
  {
   "cell_type": "code",
   "execution_count": 30,
   "metadata": {},
   "outputs": [
    {
     "name": "stdout",
     "output_type": "stream",
     "text": [
      "Total Prospectos Mensual: 50\n",
      "Meta Mensual: 37.5%\n",
      "Clientes Cerrados: 26\n",
      "Cumplimiento Mes: 26.7%\n"
     ]
    }
   ],
   "source": [
    "print(f\"Total Prospectos Mensual:\",total_customer_prospect_month(customer_df,10))\n",
    "print(f\"Meta Mensual: {monthly_target(customer_df,10):.1f}%\")\n",
    "print(f\"Clientes Cerrados:\",total_customer_active_month(customer_df,10))\n",
    "print(f\"Cumplimiento Mes: {compliance_rate(customer_df,10):.1f}%\")\n"
   ]
  }
 ],
 "metadata": {
  "kernelspec": {
   "display_name": "Python 3",
   "language": "python",
   "name": "python3"
  },
  "language_info": {
   "codemirror_mode": {
    "name": "ipython",
    "version": 3
   },
   "file_extension": ".py",
   "mimetype": "text/x-python",
   "name": "python",
   "nbconvert_exporter": "python",
   "pygments_lexer": "ipython3",
   "version": "3.12.4"
  }
 },
 "nbformat": 4,
 "nbformat_minor": 2
}
